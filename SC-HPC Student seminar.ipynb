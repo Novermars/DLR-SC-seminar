{
 "cells": [
  {
   "cell_type": "markdown",
   "id": "capable-sending",
   "metadata": {
    "slideshow": {
     "slide_type": "slide"
    }
   },
   "source": [
    "## SC-HPC Student Seminar\n",
    "# Low rank approximating matrices using a randomized SVD\n",
    "\n",
    "* Nigel Overmars\n",
    "* SC-HPC OP"
   ]
  },
  {
   "cell_type": "markdown",
   "id": "random-gothic",
   "metadata": {
    "slideshow": {
     "slide_type": "slide"
    }
   },
   "source": [
    "# E-NLA Seminar\n",
    "\n",
    "* Series of talks/seminars on numerical linear algebra\n",
    "* Biweekly occurrence\n",
    "* Live on Youtube/Zoom\n",
    "* Recordings on their Youtube channel\n",
    "*[Home page](https://sites.google.com/view/e-nla/home)\n",
    "* [Youtube channel](https://www.youtube.com/channel/UCl3AmvN5JwD4FUJn2aLKDZQ)"
   ]
  },
  {
   "cell_type": "markdown",
   "id": "packed-festival",
   "metadata": {
    "slideshow": {
     "slide_type": "slide"
    }
   },
   "source": [
    "# Introduction\n",
    "\n",
    "* Matrices are a way to store information\n",
    "* More information $\\Longrightarrow$ bigger matrices $\\Longrightarrow$ longer processing time\n",
    "* Not all information is equally useful\n",
    "\n",
    "![matrix](imagematrix.png)"
   ]
  },
  {
   "cell_type": "markdown",
   "id": "fifth-jersey",
   "metadata": {
    "slideshow": {
     "slide_type": "slide"
    }
   },
   "source": [
    "# Singular value decomposition (SVD)\n",
    "\n",
    "* Singular value decomposition of a matrix $A \\in \\mathbb{R}^{m \\times n}$\n",
    "$$A = U\\Sigma V^T$$\n",
    "* $U \\in \\mathbb{R}^{m\\times m}$ and $V \\in \\mathbb{R}^{n \\times n}$ are orthogonal matrices, $\\Sigma \\in \\mathbb{R}^{m \\times n}$ contains the singular values\n",
    "* Take $x \\in \\mathbb{R}^n$, then\n",
    "$$Ax = \\sum_{i=1}^{\\min(m,n)}\\sigma_i u_i v_i^T x$$\n",
    "* If $\\sigma_i$ is small $\\Longrightarrow$ encodes little information\n",
    "* Idea: Drop some (small) singular values to reduce storage"
   ]
  },
  {
   "cell_type": "code",
   "execution_count": 1,
   "id": "tutorial-enemy",
   "metadata": {
    "slideshow": {
     "slide_type": "slide"
    }
   },
   "outputs": [],
   "source": [
    "%matplotlib inline"
   ]
  },
  {
   "cell_type": "code",
   "execution_count": 2,
   "id": "automotive-physiology",
   "metadata": {
    "slideshow": {
     "slide_type": "slide"
    }
   },
   "outputs": [],
   "source": [
    "import numpy as np\n",
    "import matplotlib.pyplot as plt\n",
    "import time\n",
    "from scipy.stats import ortho_group"
   ]
  },
  {
   "cell_type": "markdown",
   "id": "egyptian-southwest",
   "metadata": {
    "slideshow": {
     "slide_type": "slide"
    }
   },
   "source": [
    "# Reduced SVD (of rank $r$)\n",
    "![rSVD](svd.png)\n",
    "\n",
    "* Storage = $r(m+n+r)$ vs $m \\times n$ doubles/floats\n",
    "* Useful if $r$ is small"
   ]
  },
  {
   "cell_type": "markdown",
   "id": "operational-enterprise",
   "metadata": {
    "slideshow": {
     "slide_type": "slide"
    }
   },
   "source": [
    "# SVD is optimal\n",
    "\n",
    "* Low rank approximation: Consider only the first $r$ singular values: $A_r = U_r \\Sigma_r V^T_r$\n",
    "* This is optimal in any unitarily invariant norm (ie induced by inner product)\n",
    "$$\\| A - A_r \\| = \\| \\operatorname{diag} (\\sigma_{r+1}, \\sigma_{n})\\|$$\n",
    "* Cost of SVD: $\\mathcal{O}(mn^2)$\n",
    "* Advantage: Only has to be calculated once"
   ]
  },
  {
   "cell_type": "code",
   "execution_count": 21,
   "id": "wrapped-adolescent",
   "metadata": {
    "slideshow": {
     "slide_type": "slide"
    }
   },
   "outputs": [
    {
     "data": {
      "text/plain": [
       "Text(0, 0.5, 'Runtime (s)')"
      ]
     },
     "execution_count": 21,
     "metadata": {},
     "output_type": "execute_result"
    },
    {
     "data": {
      "image/png": "[encoded data removed]",
      "text/plain": [
       "<Figure size 432x288 with 1 Axes>"
      ]
     },
     "metadata": {
      "needs_background": "light"
     },
     "output_type": "display_data"
    }
   ],
   "source": [
    "num_itrs = 50\n",
    "factor = 25\n",
    "timings = np.zeros([num_itrs, 1])\n",
    "mat_sizes = [factor * idx for idx in range(num_itrs)]\n",
    "\n",
    "for itr in range(num_itrs):\n",
    "    A_mat = np.random.randn(factor * itr, factor * itr)\n",
    "    start = time.time()\n",
    "    U_mat, S_mat, Vh_mat = np.linalg.svd(A_mat)\n",
    "    timings[itr] = time.time() - start\n",
    "    \n",
    "fig, ax = plt.subplots()\n",
    "ax.scatter(mat_sizes, timings)\n",
    "ax.set_title('SVD runtime')\n",
    "ax.set_xlabel('Matrix size')\n",
    "ax.set_ylabel('Runtime (s)')"
   ]
  },
  {
   "cell_type": "markdown",
   "id": "embedded-large",
   "metadata": {
    "slideshow": {
     "slide_type": "slide"
    }
   },
   "source": [
    "# Randomized SVD by HMT\n",
    "\n",
    "* Novel strategy by Halko, Martinsson, Tropp\n",
    "* Algorithm to approximate $A \\in \\mathbb{R}^{m \\times n}$:\n",
    "\n",
    "     1) Form random matrix $X \\in \\mathbb{R}^{n \\times r}$,     \n",
    "     2) Compute $AX \\in \\mathbb{R}^{m \\times r}$,     \n",
    "     3) Determine thin QR decomposition of $AX$: $AX = QR$, $Q \\in \\mathbb{R}^{m \\times r}$, $R\\in \\mathbb{R}^{r \\times r}$,     \n",
    "     4) $A \\approx Q(Q^TA) =: \\hat{A} = Q(U_0\\Sigma_0V_0^T) = \\hat{U}_0\\Sigma_0 V^T_0$ is approximate SVD\n",
    "     \n",
    "     \n",
    "* Cost: $\\mathcal{O}(nmr)$, can be reduced to $\\mathcal{O}(mn \\ln n + mr^2)$\n",
    "    * At the cost of some accuracy"
   ]
  },
  {
   "cell_type": "code",
   "execution_count": 25,
   "id": "continuous-medline",
   "metadata": {
    "slideshow": {
     "slide_type": "slide"
    }
   },
   "outputs": [],
   "source": [
    "def gen_exp_matrix(m, n, param):\n",
    "    # Rapidly decaying singular values with some noise.\n",
    "    S = np.zeros([m, n])\n",
    "    for idx in range(n):\n",
    "        S[idx, idx] = (param ** idx) * np.random.rand()\n",
    "    U = ortho_group.rvs(m)\n",
    "    Vt = ortho_group.rvs(n)\n",
    "    return U @ S @ Vt"
   ]
  },
  {
   "cell_type": "code",
   "execution_count": 5,
   "id": "italic-excitement",
   "metadata": {
    "slideshow": {
     "slide_type": "slide"
    }
   },
   "outputs": [],
   "source": [
    "def random_SVD(A_mat, X_mat):\n",
    "    num_rows, num_cols = A_mat.shape\n",
    "\n",
    "    Q_mat, R_mat = np.linalg.qr(A_mat @ X_mat)\n",
    "    U_mat, S_vec, Vt_mat = np.linalg.svd(Q_mat.T @ A_mat, full_matrices=False)\n",
    "    return Q_mat @ U_mat, S_vec, Vt_mat\n",
    "    "
   ]
  },
  {
   "cell_type": "code",
   "execution_count": 26,
   "id": "opponent-beads",
   "metadata": {
    "slideshow": {
     "slide_type": "slide"
    }
   },
   "outputs": [
    {
     "data": {
      "image/png": "[encoded data removed]",
      "text/plain": [
       "<Figure size 432x288 with 1 Axes>"
      ]
     },
     "metadata": {
      "needs_background": "light"
     },
     "output_type": "display_data"
    }
   ],
   "source": [
    "m = 1000\n",
    "n = 300\n",
    "param = 0.85\n",
    "A_mat = gen_exp_matrix(m, n, param)\n",
    "\n",
    "U_mat, S_vec, Vt_mat = np.linalg.svd(A_mat)\n",
    "\n",
    "fig, ax = plt.subplots()\n",
    "ax.plot(range(min(m, n)), S_vec)\n",
    "ax.set_xlabel('Rank')\n",
    "ax.set_yscale('log')"
   ]
  },
  {
   "cell_type": "markdown",
   "id": "approximate-surrey",
   "metadata": {
    "slideshow": {
     "slide_type": "slide"
    }
   },
   "source": [
    "# Error estimate on the randomized SVD\n",
    "\n",
    "* The following error estimate holds ($\\hat{r} < r$)\n",
    "$$\\mathbb{E} \\| A - \\hat{A}\\|_F \\leq \\left(1 + \\dfrac{r}{r - \\hat{r} - 1} \\right)\\|A - A_{\\hat{r}}\\|_F$$\n",
    "* Important: The probability that the error is bigger decreases exponentially \n"
   ]
  },
  {
   "cell_type": "markdown",
   "id": "preceding-radar",
   "metadata": {
    "slideshow": {
     "slide_type": "slide"
    }
   },
   "source": [
    "# Numerical experiments\n",
    "\n",
    "* Singular value structure\n",
    "    * Talk: exponentially decaying\n",
    "    * What about a random matrix?\n",
    "\n",
    "* How to sample the matrix $X$?\n",
    "    * Normal distribution\n",
    "    * Uniform distribution"
   ]
  },
  {
   "cell_type": "code",
   "execution_count": 7,
   "id": "turned-incentive",
   "metadata": {
    "slideshow": {
     "slide_type": "slide"
    }
   },
   "outputs": [],
   "source": [
    "def random_SVD_errors(A_mat):\n",
    "    num_rows, num_cols = A_mat.shape\n",
    "    max_rank = min(num_rows, num_cols)\n",
    "    \n",
    "    errors = np.zeros(max_rank)\n",
    "    for rank in range(max_rank):\n",
    "        X_mat = np.random.randn(num_cols, rank)\n",
    "        U_mat, S_vec, Vt_mat = random_SVD(A_mat, X_mat)\n",
    "        errors[rank] = np.linalg.norm(A_mat - U_mat @ np.diag(S_vec) @ Vt_mat, 'fro')\n",
    "    return errors"
   ]
  },
  {
   "cell_type": "code",
   "execution_count": 8,
   "id": "mental-concert",
   "metadata": {
    "slideshow": {
     "slide_type": "slide"
    }
   },
   "outputs": [],
   "source": [
    "def SVD_errors(A_mat):\n",
    "    num_rows, num_cols = A_mat.shape\n",
    "    max_rank = min(num_rows, num_cols)\n",
    "    \n",
    "    errors = np.zeros(max_rank)\n",
    "    U_mat, S_vec, Vt_mat = np.linalg.svd(A_mat, full_matrices=False)\n",
    "    for rank in range(max_rank - 1, -1, -1):\n",
    "        S_vec[rank] = 0.0\n",
    "        errors[rank] = np.linalg.norm(A_mat - U_mat @ np.diag(S_vec) @ Vt_mat, 'fro')\n",
    "    return errors"
   ]
  },
  {
   "cell_type": "code",
   "execution_count": 9,
   "id": "communist-immunology",
   "metadata": {
    "slideshow": {
     "slide_type": "slide"
    }
   },
   "outputs": [],
   "source": [
    "def plot_errors(errorsHMT, errorsSVD):\n",
    "    length = len(errorsHMT)\n",
    "    fig, ax = plt.subplots()\n",
    "    ax.plot(range(length), errors, label = 'HMT')\n",
    "    ax.plot(range(length), errorsSVD, label = 'SVD')\n",
    "    ax.set_title('Rank r approximations')\n",
    "    ax.set_ylabel('Difference in Frobenius norm')\n",
    "    ax.set_xlabel('Rank')\n",
    "    ax.set_yscale('log')\n",
    "    plt.legend()"
   ]
  },
  {
   "cell_type": "code",
   "execution_count": 34,
   "id": "breathing-turkish",
   "metadata": {
    "slideshow": {
     "slide_type": "slide"
    }
   },
   "outputs": [
    {
     "name": "stdout",
     "output_type": "stream",
     "text": [
      "[1.65984941e+00 1.60073559e+00 1.47503555e+00 1.41931210e+00\n",
      " 1.27859951e+00 1.30561341e+00 1.32871749e+00 1.29703053e+00\n",
      " 1.14625160e+00 1.13053504e+00 1.04325178e+00 9.62242987e-01\n",
      " 9.94705978e-01 9.55725305e-01 9.29548537e-01 8.42874367e-01\n",
      " 8.03120108e-01 8.19248413e-01 7.82397351e-01 7.09814778e-01\n",
      " 6.83026816e-01 6.40736277e-01 6.39432228e-01 5.72890879e-01\n",
      " 5.53171520e-01 5.42948961e-01 5.04553418e-01 5.01955797e-01\n",
      " 4.59515481e-01 4.68720137e-01 4.27383672e-01 4.23584458e-01\n",
      " 4.14058267e-01 3.68514819e-01 3.52039260e-01 3.36096099e-01\n",
      " 3.16603838e-01 3.40331255e-01 3.24070686e-01 2.67814442e-01\n",
      " 2.70492830e-01 2.55424721e-01 2.51971557e-01 2.28574626e-01\n",
      " 2.22434678e-01 2.15676234e-01 2.09550553e-01 2.01363419e-01\n",
      " 1.82519106e-01 1.83890757e-01 1.67408047e-01 1.57990032e-01\n",
      " 1.44765676e-01 1.47846931e-01 1.49890498e-01 1.46749764e-01\n",
      " 1.44419800e-01 1.21571491e-01 1.25486704e-01 1.26574773e-01\n",
      " 1.04221567e-01 1.08037999e-01 1.10062439e-01 9.97104888e-02\n",
      " 9.29086853e-02 9.06268485e-02 9.03723560e-02 8.40178517e-02\n",
      " 8.07471175e-02 8.07840773e-02 7.69607208e-02 6.93744912e-02\n",
      " 6.88883315e-02 6.97481499e-02 5.92481254e-02 6.15437547e-02\n",
      " 5.80720674e-02 5.42801292e-02 5.40252640e-02 5.18383544e-02\n",
      " 5.07749221e-02 4.97693625e-02 4.74217146e-02 4.19980481e-02\n",
      " 4.17676392e-02 3.86340549e-02 3.89941238e-02 3.50149383e-02\n",
      " 3.41275619e-02 3.40078474e-02 3.07524951e-02 3.17921683e-02\n",
      " 2.92786258e-02 2.65082536e-02 2.70549078e-02 2.52382209e-02\n",
      " 2.53899689e-02 2.32809438e-02 2.31645063e-02 2.07447145e-02\n",
      " 2.02841635e-02 1.87400766e-02 1.81756127e-02 1.81557917e-02\n",
      " 1.67031981e-02 1.61592729e-02 1.49218813e-02 1.42280362e-02\n",
      " 1.45000422e-02 1.30606620e-02 1.26100843e-02 1.17933413e-02\n",
      " 1.11661732e-02 1.04956176e-02 1.11646599e-02 1.01571397e-02\n",
      " 9.88122796e-03 8.88977870e-03 8.37669788e-03 8.49641526e-03\n",
      " 7.55372265e-03 7.36463305e-03 6.76182771e-03 6.82250377e-03\n",
      " 6.63716865e-03 6.43820990e-03 6.23904513e-03 5.57151842e-03\n",
      " 5.55691933e-03 5.45460550e-03 5.06517773e-03 4.97624597e-03\n",
      " 4.66619174e-03 4.32794602e-03 3.92104237e-03 3.96181712e-03\n",
      " 3.97623852e-03 3.58441816e-03 3.56982584e-03 3.10162435e-03\n",
      " 3.10722309e-03 3.15289891e-03 2.81510353e-03 2.80387427e-03\n",
      " 2.74271974e-03 2.60410535e-03 2.39246258e-03 2.48246883e-03\n",
      " 2.14742613e-03 2.04191707e-03 1.98898263e-03 1.81548287e-03\n",
      " 1.95060197e-03 1.70404605e-03 1.82431034e-03 1.53111307e-03\n",
      " 1.67718249e-03 1.46886285e-03 1.50582755e-03 1.38371869e-03\n",
      " 1.30333049e-03 1.26965596e-03 1.23261046e-03 1.08329070e-03\n",
      " 1.03889879e-03 1.07911952e-03 9.80591560e-04 9.66876065e-04\n",
      " 8.86345126e-04 8.45528424e-04 8.11755064e-04 7.62399105e-04\n",
      " 7.40500564e-04 6.48399972e-04 6.63745433e-04 6.04305616e-04\n",
      " 6.08484260e-04 6.00116872e-04 5.30285466e-04 4.88416384e-04\n",
      " 4.90435133e-04 4.59146552e-04 4.01831968e-04 3.70332249e-04\n",
      " 3.53884045e-04 3.57697605e-04 3.33578922e-04 2.80105472e-04\n",
      " 2.89014302e-04 2.37148585e-04 2.32459088e-04 1.85312432e-04\n",
      " 1.55885126e-04 1.52097171e-04 1.47666812e-04 1.15762372e-04\n",
      " 6.96129838e-05 5.96318160e-05 4.31733268e-05 2.73565890e-05]\n"
     ]
    },
    {
     "data": {
      "image/png": "[encoded data removed]",
      "text/plain": [
       "<Figure size 432x288 with 1 Axes>"
      ]
     },
     "metadata": {
      "needs_background": "light"
     },
     "output_type": "display_data"
    }
   ],
   "source": [
    "num_rows = 1000\n",
    "num_cols = 200\n",
    "param = 0.95\n",
    "\n",
    "A_mat = gen_exp_matrix(num_rows, num_cols, param)\n",
    "# A_mat = np.random.rand(num_rows, num_cols)\n",
    "#A_mat = np.random.randn(num_rows, num_cols)\n",
    "\n",
    "errors = random_SVD_errors(A_mat)\n",
    "errorsSVD = SVD_errors(A_mat)\n",
    "\n",
    "print(errors)\n",
    "plot_errors(errors, errorsSVD)"
   ]
  },
  {
   "cell_type": "markdown",
   "id": "dress-knife",
   "metadata": {
    "slideshow": {
     "slide_type": "slide"
    }
   },
   "source": [
    "# Questions to discuss\n",
    "\n",
    "* How can we improve the result with slowly decreasing singular values?\n",
    "* Can we trade accuracy for speed?"
   ]
  },
  {
   "cell_type": "markdown",
   "id": "presidential-harassment",
   "metadata": {
    "slideshow": {
     "slide_type": "slide"
    }
   },
   "source": [
    "# Thanks for listening!\n"
   ]
  },
  {
   "cell_type": "code",
   "execution_count": 15,
   "id": "convenient-lincoln",
   "metadata": {
    "slideshow": {
     "slide_type": "slide"
    }
   },
   "outputs": [
    {
     "data": {
      "text/html": [
       "<iframe width=\"560\" height=\"315\" src=\"https://www.youtube.com/embed/cLm2bawNKC8\" frameborder=\"0\" allow=\"accelerometer; autoplay; clipboard-write; encrypted-media; gyroscope; picture-in-picture\" allowfullscreen></iframe>\n"
      ],
      "text/plain": [
       "<IPython.core.display.HTML object>"
      ]
     },
     "metadata": {},
     "output_type": "display_data"
    }
   ],
   "source": [
    "%%HTML\n",
    "<iframe width=\"560\" height=\"315\" src=\"https://www.youtube.com/embed/cLm2bawNKC8\" frameborder=\"0\" allow=\"accelerometer; autoplay; clipboard-write; encrypted-media; gyroscope; picture-in-picture\" allowfullscreen></iframe>"
   ]
  }
 ],
 "metadata": {
  "celltoolbar": "Slideshow",
  "kernelspec": {
   "display_name": "Python 3.8.5 64-bit",
   "language": "python",
   "name": "python38564bite5b14ca3bc2340fa8e7f457dbb1015f9"
  },
  "language_info": {
   "codemirror_mode": {
    "name": "ipython",
    "version": 3
   },
   "file_extension": ".py",
   "mimetype": "text/x-python",
   "name": "python",
   "nbconvert_exporter": "python",
   "pygments_lexer": "ipython3",
   "version": "3.8.5"
  }
 },
 "nbformat": 4,
 "nbformat_minor": 5
}
