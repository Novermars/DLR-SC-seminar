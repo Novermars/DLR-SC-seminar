{
 "cells": [
  {
   "cell_type": "markdown",
   "id": "capable-sending",
   "metadata": {},
   "source": [
    "## SC-HPC Student Seminar\n",
    "# Low rank approximating matrices using a randomized SVD\n",
    "\n",
    "* Nigel Overmars\n",
    "* SC-HPC OP"
   ]
  },
  {
   "cell_type": "markdown",
   "id": "random-gothic",
   "metadata": {},
   "source": [
    "# E-NLA Seminar\n",
    "\n",
    "* Series of talks/seminars on numerical linear algebra\n",
    "* Biweekly occurrence\n",
    "* Live on Youtube/Zoom\n",
    "* Recordings on their Youtube channel\n",
    "*[Home page](https://sites.google.com/view/e-nla/home)\n",
    "* [Youtube channel](https://www.youtube.com/channel/UCl3AmvN5JwD4FUJn2aLKDZQ)"
   ]
  },
  {
   "cell_type": "markdown",
   "id": "packed-festival",
   "metadata": {},
   "source": [
    "# Introduction\n",
    "\n",
    "* Matrices are a way to store information\n",
    "* More information $\\Longrightarrow$ bigger matrices $\\Longrightarrow$ longer processing time\n",
    "* Not all information is equally useful\n",
    "\n",
    "![matrix](images/imagematrix.png)"
   ]
  },
  {
   "cell_type": "markdown",
   "id": "fifth-jersey",
   "metadata": {},
   "source": [
    "# Singular value decomposition (SVD)\n",
    "\n",
    "* Singular value decomposition of a matrix $A \\in \\mathbb{R}^{m \\times n}$\n",
    "$$A = U\\Sigma V^T$$\n",
    "* $U \\in \\mathbb{R}^{m\\times m}$ and $V \\in \\mathbb{R}^{n \\times n}$ are orthogonal matrices, $\\Sigma \\in \\mathbb{R}^{m \\times n}$ contains the singular values\n",
    "* Take $x \\in \\mathbb{R}^n$, then\n",
    "$$Ax = \\sum_{i=1}^{\\min(m,n)}\\sigma_i u_i v_i^T x$$\n",
    "* If $\\sigma_i$ is small $\\Longrightarrow$ encodes little information\n",
    "* Idea: Drop some (small) singular values to reduce storage"
   ]
  },
  {
   "cell_type": "code",
   "execution_count": 1,
   "id": "tutorial-enemy",
   "metadata": {},
   "outputs": [],
   "source": [
    "%matplotlib inline"
   ]
  },
  {
   "cell_type": "code",
   "execution_count": 4,
   "id": "automotive-physiology",
   "metadata": {},
   "outputs": [],
   "source": [
    "import numpy as np\n",
    "import matplotlib.pyplot as plt\n",
    "import time\n",
    "from scipy.stats import ortho_group"
   ]
  },
  {
   "cell_type": "markdown",
   "id": "egyptian-southwest",
   "metadata": {},
   "source": [
    "# Reduced SVD (of rank $r$)\n",
    "![rSVD](images/svd.png)\n",
    "\n",
    "* Storage = $r(m+n+1)$ vs $m \\times n$ doubles/floats\n",
    "* Useful if $r$ is small"
   ]
  },
  {
   "cell_type": "markdown",
   "id": "operational-enterprise",
   "metadata": {},
   "source": [
    "# SVD is optimal\n",
    "\n",
    "* Low rank approximation: Consider only the first $r$ singular values: $A_r = U_r \\Sigma_r V^T_r$\n",
    "* This is optimal in any unitarily invariant norm (ie induced by inner product)\n",
    "$$\\| A - A_r \\| = \\| \\operatorname{diag} (\\sigma_{r+1}, \\sigma_{n})\\|$$\n",
    "* Cost of SVD: $\\mathcal{O}(mn^2)$\n",
    "* Advantage: Only has to be calculated once"
   ]
  },
  {
   "cell_type": "code",
   "execution_count": 7,
   "id": "wrapped-adolescent",
   "metadata": {},
   "outputs": [
    {
     "data": {
      "text/plain": [
       "Text(0, 0.5, 'Runtime (s)')"
      ]
     },
     "execution_count": 7,
     "metadata": {},
     "output_type": "execute_result"
    },
    {
     "data": {
      "image/png": "[encoded data removed]",
      "text/plain": [
       "<Figure size 432x288 with 1 Axes>"
      ]
     },
     "metadata": {
      "needs_background": "light"
     },
     "output_type": "display_data"
    }
   ],
   "source": [
    "num_itrs = 50\n",
    "factor = 25\n",
    "timings = np.empty([num_itrs, 1])\n",
    "mat_sizes = [factor * idx for idx in range(num_itrs)]\n",
    "\n",
    "for itr in range(num_itrs):\n",
    "    A_mat = np.random.randn(factor * itr, factor * itr)\n",
    "    start = time.time()\n",
    "    U_mat, S_mat, Vh_mat = np.linalg.svd(A_mat)\n",
    "    timings[itr] = time.time() - start\n",
    "    \n",
    "fig, ax = plt.subplots()\n",
    "ax.scatter(mat_sizes, timings)\n",
    "ax.set_title('SVD runtime')\n",
    "ax.set_xlabel('Matrix size')\n",
    "ax.set_ylabel('Runtime (s)')"
   ]
  },
  {
   "cell_type": "markdown",
   "id": "embedded-large",
   "metadata": {},
   "source": [
    "# Randomized SVD by HMT\n",
    "\n",
    "* Novel strategy by Halko, Martinsson, Tropp\n",
    "* Algorithm to approximate $A \\in \\mathbb{R}^{m \\times n}$:\n",
    "\n",
    "     1) Form random matrix $X \\in \\mathbb{R}^{n \\times r}$,     \n",
    "     2) Compute $AX \\in \\mathbb{R}^{m \\times r}$,     \n",
    "     3) Determine thin QR decomposition of $AX$: $AX = QR$, $Q \\in \\mathbb{R}^{m \\times r}$, $R\\in \\mathbb{R}^{r \\times r}$,     \n",
    "     4) $A \\approx Q(Q^TA) =: \\hat{A} = Q(U_0\\Sigma_0V_0^T) = \\hat{U}_0\\Sigma_0 V^T_0$ is approximate SVD\n",
    "     \n",
    "     \n",
    "* Cost: $\\mathcal{O}(nmr)$, can be reduced to $\\mathcal{O}(mn \\ln n + mr^2)$\n",
    "    * At the cost of some accuracy"
   ]
  },
  {
   "cell_type": "code",
   "execution_count": 23,
   "id": "continuous-medline",
   "metadata": {},
   "outputs": [],
   "source": [
    "def gen_exp_matrix(m, n):\n",
    "    # Rapidly decaying singular values with some noise.\n",
    "    S = np.zeros([m, n])\n",
    "    for idx in range(n):\n",
    "        S[idx, idx] = m * (0.95 ** idx) * np.random.rand()\n",
    "    U = ortho_group.rvs(m)\n",
    "    Vt = ortho_group.rvs(n)\n",
    "    return U @ S @ Vt"
   ]
  },
  {
   "cell_type": "code",
   "execution_count": 12,
   "id": "italic-excitement",
   "metadata": {},
   "outputs": [],
   "source": [
    "def random_SVD(A_mat, X_mat):\n",
    "    num_rows, num_cols = A_mat.shape\n",
    "\n",
    "    Q_mat, R_mat = np.linalg.qr(A_mat @ X_mat)\n",
    "    U_mat, S_vec, Vt_mat = np.linalg.svd(Q_mat.T @ A_mat, full_matrices=False)\n",
    "    return Q_mat @ U_mat, S_vec, Vt_mat\n",
    "    "
   ]
  },
  {
   "cell_type": "code",
   "execution_count": 7,
   "id": "opponent-beads",
   "metadata": {},
   "outputs": [
    {
     "data": {
      "text/plain": [
       "<matplotlib.collections.PathCollection at 0x7f0c862b4970>"
      ]
     },
     "execution_count": 7,
     "metadata": {},
     "output_type": "execute_result"
    },
    {
     "data": {
      "image/png": "[encoded data removed]",
      "text/plain": [
       "<Figure size 432x288 with 1 Axes>"
      ]
     },
     "metadata": {
      "needs_background": "light"
     },
     "output_type": "display_data"
    }
   ],
   "source": [
    "m = 1000\n",
    "n = 300\n",
    "A_mat = gen_exp_matrix(m, n)\n",
    "\n",
    "U_mat, S_vec, Vt_mat = np.linalg.svd(A_mat)\n",
    "\n",
    "fig, ax = plt.subplots()\n",
    "ax.scatter(range(min(m, n)), S_vec)"
   ]
  },
  {
   "cell_type": "markdown",
   "id": "approximate-surrey",
   "metadata": {},
   "source": [
    "# Error estimate on the randomized SVD\n",
    "\n",
    "* The following error estimate holds ($\\hat{r} \\leq r$)\n",
    "$$\\mathbb{E} \\| A - \\hat{A}\\|_F \\leq \\left(1 + \\dfrac{r}{r - \\hat{r} - 1} \\right)\\|A - A_{\\hat{r}}\\|_F$$\n",
    "* Important: The probability that the error is bigger decreases exponentially \n"
   ]
  },
  {
   "cell_type": "markdown",
   "id": "preceding-radar",
   "metadata": {},
   "source": [
    "# Numerical experiments\n",
    "\n",
    "* Singular value structure\n",
    "    * Talk: exponentially decaying\n",
    "    * What about a random matrix?\n",
    "\n",
    "* How to sample the matrix $X$?\n",
    "    * Normal distribution\n",
    "    * Uniform distribution"
   ]
  },
  {
   "cell_type": "code",
   "execution_count": 40,
   "id": "turned-incentive",
   "metadata": {},
   "outputs": [],
   "source": [
    "def random_SVD_errors(A_mat):\n",
    "    num_rows, num_cols = A_mat.shape\n",
    "    max_rank = min(num_rows, num_cols)\n",
    "    \n",
    "    errors = np.zeros(max_rank)\n",
    "    for rank in range(max_rank):\n",
    "        X_mat = np.random.randn(num_cols, rank)\n",
    "        U_mat, S_vec, Vt_mat = random_SVD(A_mat, X_mat)\n",
    "        errors[rank] = np.linalg.norm(A_mat - U_mat @ np.diag(S_vec) @ Vt_mat, 'fro')\n",
    "    return errors"
   ]
  },
  {
   "cell_type": "code",
   "execution_count": 63,
   "id": "mental-concert",
   "metadata": {},
   "outputs": [],
   "source": [
    "def SVD_errors(A_mat):\n",
    "    num_rows, num_cols = A_mat.shape\n",
    "    max_rank = min(num_rows, num_cols)\n",
    "    \n",
    "    errors = np.zeros(max_rank)\n",
    "    U_mat, S_vec, Vt_mat = np.linalg.svd(A_mat, full_matrices=False)\n",
    "    for rank in range(max_rank - 1, -1, -1):\n",
    "        S_vec[rank] = 0.0\n",
    "        errors[rank] = np.linalg.norm(A_mat - U_mat @ np.diag(S_vec) @ Vt_mat, 'fro')\n",
    "    return errors"
   ]
  },
  {
   "cell_type": "code",
   "execution_count": 61,
   "id": "communist-immunology",
   "metadata": {},
   "outputs": [],
   "source": [
    "def plot_errors(errorsHMT, errorsSVD):\n",
    "    length = len(errorsHMT)\n",
    "    fig, ax = plt.subplots()\n",
    "    ax.plot(range(length), errors, label = 'HMT')\n",
    "    ax.plot(range(length), errorsSVD, label = 'SVD')\n",
    "    ax.set_title('Rank r approximations')\n",
    "    ax.set_ylabel('Difference in Frobenius norm')\n",
    "    ax.set_xlabel('Rank')\n",
    "    ax.set_yscale('log')\n",
    "    plt.legend()"
   ]
  },
  {
   "cell_type": "code",
   "execution_count": 64,
   "id": "breathing-turkish",
   "metadata": {},
   "outputs": [
    {
     "data": {
      "image/png": "[encoded data removed]",
      "text/plain": [
       "<Figure size 432x288 with 1 Axes>"
      ]
     },
     "metadata": {
      "needs_background": "light"
     },
     "output_type": "display_data"
    }
   ],
   "source": [
    "num_rows = 50\n",
    "num_cols = 30\n",
    "\n",
    "#A_mat = gen_exp_matrix(num_rows, num_cols)\n",
    "# A_mat = np.random.rand(num_rows, num_cols)\n",
    "A_mat = np.random.randn(num_rows, num_cols)\n",
    "\n",
    "errors = random_SVD_errors(A_mat)\n",
    "errorsSVD = SVD_errors(A_mat)\n",
    "\n",
    "plot_errors(errors, errorsSVD)"
   ]
  }
 ],
 "metadata": {
  "kernelspec": {
   "display_name": "Python 3.8.5 64-bit",
   "language": "python",
   "name": "python38564bite5b14ca3bc2340fa8e7f457dbb1015f9"
  },
  "language_info": {
   "codemirror_mode": {
    "name": "ipython",
    "version": 3
   },
   "file_extension": ".py",
   "mimetype": "text/x-python",
   "name": "python",
   "nbconvert_exporter": "python",
   "pygments_lexer": "ipython3",
   "version": "3.8.5"
  }
 },
 "nbformat": 4,
 "nbformat_minor": 5
}
